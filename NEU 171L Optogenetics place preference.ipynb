{
 "cells": [
  {
   "cell_type": "markdown",
   "metadata": {},
   "source": [
    "# NEU 171L: Adult fly optogenetics lab\n",
    "\n",
    "This Jupyter notebook was written to aid you in a statistical analysis of the place preference test for the flies expressing CsChrimson in sweet taste receptors or in bitter taste receptors. We will refer to these flies as \"sweet receptor flies\" and \"bitter receptor flies\". Wait until everyone in your lab section has reported their data before you complete this notebook.\n",
    "\n",
    "As a reminder, to run each cell of the jupyter notebook, use  𝚌𝚝𝚛𝚕+𝚎𝚗𝚝𝚎𝚛 . Four python packages are used in this notebook: numpy (to perform computations), matplotlib (to plot the data), datascience (for working with tables), and scipy (statistics toolbox).\n",
    "\n",
    "#### Learning Objectives\n",
    "- Use descriptive statistics to quantify the basic features of the data\n",
    "- Create a bar plot of the means and standard deviation\n",
    "- Use an equivalent to a t-test (Mann-Whitney U test) to compare the preference index for sweet receptor and bitter receptor flies.\n",
    "- Interpret what the p-value means with respect to the tested hypothesis \n",
    "\n",
    "## Step 0: Load the packages to be used later in the analysis\n",
    "(Don't edit this cell, just run it using 𝚌𝚝𝚛𝚕+𝚎𝚗𝚝𝚎𝚛 and then move to the next cell)"
   ]
  },
  {
   "cell_type": "code",
   "execution_count": null,
   "metadata": {
    "pycharm": {
     "name": "#%%\n"
    }
   },
   "outputs": [],
   "source": [
    "#Run this cell first! Everytime you come back to this notebook, you need to run this cell again.\n",
    "\n",
    "import numpy as np\n",
    "import matplotlib.pyplot as plt\n",
    "%matplotlib inline\n",
    "from datascience import *\n",
    "from scipy import stats as st"
   ]
  },
  {
   "cell_type": "markdown",
   "metadata": {
    "pycharm": {
     "name": "#%% md\n"
    }
   },
   "source": [
    "## Step 1: Enter your lab section's data for the place preference test\n",
    "\n",
    "Enter the Preference Index (PI) values for your lab section. You are making two lists, one called \"PI_sweet\" and another called \"PI_bitter\". Hint: remove the ... and replace it with numbers separated by commas. You need to have the same number of data points in each list."
   ]
  },
  {
   "cell_type": "code",
   "execution_count": null,
   "metadata": {},
   "outputs": [],
   "source": [
    "# Fill in the class data for sweet and bitter Preference Index (PI) values. Use commas between numbers.\n",
    "PI_sweet = [...]\n",
    "PI_bitter = [...]"
   ]
  },
  {
   "cell_type": "code",
   "execution_count": null,
   "metadata": {},
   "outputs": [],
   "source": [
    "# This cell will make a table of your data. First we name the column in quotes, then write the name of the list that has\n",
    "# the data in it. Complete the pattern to add a column with your bitter fly data\n",
    "PI_table = Table().with_columns(\"PI sweet flies\", PI_sweet,\"...\", ...)\n",
    "PI_table"
   ]
  },
  {
   "cell_type": "markdown",
   "metadata": {},
   "source": [
    "## Step 2: Calculate the mean and standard deviation\n",
    "\n",
    "We will use another method to calculate mean and standard deviation, using the pre-defined functions in the numpy library. To calculate the mean from a list of numbers you use the notation `np.mean(list name)`. To calculate the standard deviation from a list of numbers you use the notation `np.std(list name)`. Recall that the %.3f code rounds the number to three decimal points."
   ]
  },
  {
   "cell_type": "code",
   "execution_count": null,
   "metadata": {},
   "outputs": [],
   "source": [
    "#Follow the pattern for the sweet flies to complete the bitter code\n",
    "\n",
    "PI_sweet_mean = np.mean(PI_sweet)\n",
    "print(\"mean preference index for the sweet receptor flies: %.3f \" % PI_sweet_mean)\n",
    "\n",
    "PI_bitter_mean = ...\n",
    "print(...)"
   ]
  },
  {
   "cell_type": "code",
   "execution_count": null,
   "metadata": {},
   "outputs": [],
   "source": [
    "#Follow the pattern for the sweet flies to complete the bitter code\n",
    "\n",
    "PI_sweet_std = np.std(PI_sweet)\n",
    "print(\"standard deviation for the sweet receptor flies: %.3f \" % PI_sweet_std)\n",
    "\n",
    "PI_bitter_std = ...\n",
    "print(...)"
   ]
  },
  {
   "cell_type": "markdown",
   "metadata": {
    "pycharm": {
     "name": "#%% md\n"
    }
   },
   "source": [
    "## Step 3: Make a bar graph of the means with error bars (include this in your lab assignment)\n",
    "We will start by showing you an example of how to make a bar graph, so you can graph your data."
   ]
  },
  {
   "cell_type": "code",
   "execution_count": null,
   "metadata": {},
   "outputs": [],
   "source": [
    "#Here is some data we can work with. The data shows average ratings and standard deviation for restaurants in Berkeley\n",
    "\n",
    "restaurants = [\"Gypsy's\", \"Tacos Sinaloa\", \"Sliver\", \"Muracci's\", \"Brazil Cafe\", \"Thai Basil\"]\n",
    "mean_rating = [4, 4, 4, 3.5, 4.5, 3.5]\n",
    "std_rating = [0.8, 1.3, 0.2, 0.4, 0.4, 1.1]"
   ]
  },
  {
   "cell_type": "markdown",
   "metadata": {},
   "source": [
    "To make a bar plot, we use the command `plt.bar(x-axis names, y-axis values)`. For the x-axis names, we use the name of the list that contains those values (so `restaurants` in this example). For the y-axis values, we use the name of the list that contains those values (so `mean_rating` in this example).\n",
    "\n",
    "To include the error bars for the y-axis values we use `yerr=error values` where the error values would be the name of the list that contains our standard deviation values (std_rating). In the plt.bar code below, everything after yerr=std_rating just changes the way the error bars look. You can change the numbers to see how it affects the error bar lines."
   ]
  },
  {
   "cell_type": "code",
   "execution_count": null,
   "metadata": {},
   "outputs": [],
   "source": [
    "# Run this cell to create a bar plot of the average rating. \n",
    "# If the graph doesn't show up in the notebook, then run the first cell again. Sometimes \"%matplotlib inline\" needs to be run again.\n",
    "\n",
    "# Create a bar plot of the average restaurant rating with error bars for standard deviation\n",
    "plt.bar(restaurants, mean_rating, yerr=std_rating, capsize=5, error_kw={'capsize': 2, 'capthick': 1, 'elinewidth': 1})\n",
    "\n",
    "# add the x-axis label\n",
    "plt.xlabel(\"Restaurant\")\n",
    "\n",
    "# rotate the x-axis labels so they fit, rotates labels 45 degrees and aligns them to the right\n",
    "plt.xticks(rotation=45, ha=\"right\")\n",
    "\n",
    "# add the y-axis label\n",
    "plt.ylabel(\"Average Rating\")\n",
    "\n",
    "# add a title\n",
    "plt.title(\"Berkeley Restaurant Ratings\")\n",
    "\n",
    "# show the plot\n",
    "plt.show()"
   ]
  },
  {
   "cell_type": "markdown",
   "metadata": {},
   "source": [
    "Okay, we're ready to make our bar graph of the preference index for sweet receptor flies and bitter receptor flies. To make things a little easier, let's create new variables for the names we want to appear on the x-axis, for the means and for the standard deviations. Run the cell below to define these new variables"
   ]
  },
  {
   "cell_type": "code",
   "execution_count": null,
   "metadata": {},
   "outputs": [],
   "source": [
    "#Run this cell to make new lists that we will use to make the bar plot. Feel free to change the names for the x-axis values\n",
    "\n",
    "names=[\"Sweet receptors\", \"Bitter receptors\"]\n",
    "means=[PI_sweet_mean,PI_bitter_mean]\n",
    "std=[PI_sweet_std,PI_bitter_std]"
   ]
  },
  {
   "cell_type": "markdown",
   "metadata": {},
   "source": [
    "<div class='alert alert-info'>\n",
    "    \n",
    "**Make your bar graph:** Create a bar plot of the preference index data. Hint: Copy the code for making the restaurant bar plot and change the variable names and axes labels. Note that you probably won't need to rotate the x-axis labels.\n",
    "\n",
    "Add a horizontal line at y=0 by adding this line to your solution `plt.axhline(y=0, color=\"k\")`\n",
    "\n",
    "Copy this graph into your lab assignment.\n",
    "\n",
    "</div>\n"
   ]
  },
  {
   "cell_type": "code",
   "execution_count": null,
   "metadata": {},
   "outputs": [],
   "source": [
    "# Create a bar plot of the average preference index data with error bars for standard deviation\n"
   ]
  },
  {
   "cell_type": "markdown",
   "metadata": {
    "pycharm": {
     "name": "#%%\n"
    }
   },
   "source": [
    "## Step 4: Run a Mann-Whitney U two-sided rank test\n",
    "\n",
    "We will use the Mann-Whitney U test to compare the preference index values for the sweet taste receptor flies and bitter taste receptor flies. The Mann-Whitney U test is a nonparametric equivalent test to a t-test.  However, unlike the t-test is does not require the assumption that the distributions follows a normal distributions. The Mann-Whitney U test tests the null hypothesis that the distribution underlying sample x is the same as the distribution underlying sample y. Therefore lower p-values indicate that the two samples are likely not from the same distribution. \n",
    "\n",
    "You need to tell Python the names of the two lists of data you want to compare. Replace the ... with the names of the lists of the PI data you originally wrote into the notebook."
   ]
  },
  {
   "cell_type": "code",
   "execution_count": null,
   "metadata": {},
   "outputs": [],
   "source": [
    "# Perform the Mann-Whitney U test\n",
    "stat, p_value = st.mannwhitneyu(PI_sweet, PI_bitter, alternative='two-sided')\n",
    "\n",
    "# Print the p-value, rounded to 4 decimal places\n",
    "print(f'p-value: {p_value:.4f}')"
   ]
  },
  {
   "cell_type": "markdown",
   "metadata": {},
   "source": [
    "We will use the standard p-value cut-off of 0.05. What can you conclude from your p-value? Explain in the lab assignment."
   ]
  }
 ],
 "metadata": {
  "kernelspec": {
   "display_name": "Python 3 (ipykernel)",
   "language": "python",
   "name": "python3"
  },
  "language_info": {
   "codemirror_mode": {
    "name": "ipython",
    "version": 3
   },
   "file_extension": ".py",
   "mimetype": "text/x-python",
   "name": "python",
   "nbconvert_exporter": "python",
   "pygments_lexer": "ipython3",
   "version": "3.11.9"
  }
 },
 "nbformat": 4,
 "nbformat_minor": 4
}
