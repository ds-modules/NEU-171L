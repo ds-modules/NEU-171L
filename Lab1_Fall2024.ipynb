{
 "cells": [
  {
   "cell_type": "markdown",
   "metadata": {
    "collapsed": true,
    "pycharm": {
     "name": "#%% md\n"
    }
   },
   "source": [
    "## MCB 160L Lab 1 - Analysis of MRI data\n",
    "Jupyter is an interactive, web-based python interface. Jupyter is a great tool for data-science, since you can iteratively develop your project and debug your code without having to continually reload data into memory. To run each cell of the jupyter notebook, use  $\\texttt{ctrl+enter}$. In addition to jupyter, three python packages are used in this notebook: numpy (to perform computations + sampling), pandas (data format and statistic methods), and matplotlib (to plot the data) \n",
    "\n",
    "\n",
    "### Learning Objectives\n",
    "- Use descriptive statistics to quantify the basic features of data\n",
    "- Use bootstrapping to determine the probability of a given observation in a non-normal dataset\n",
    "- Understand what a p-value means with respect to the tested hypothesis.\n"
   ]
  },
  {
   "cell_type": "code",
   "execution_count": null,
   "metadata": {},
   "outputs": [],
   "source": [
    "# RUN THIS CELL to import python packages \n",
    "\n",
    "import numpy as np\n",
    "import matplotlib.pyplot as plt \n",
    "import pandas as pd"
   ]
  },
  {
   "cell_type": "markdown",
   "metadata": {},
   "source": [
    "### Step 1: Load in and clean the data"
   ]
  },
  {
   "cell_type": "code",
   "execution_count": null,
   "metadata": {
    "pycharm": {
     "name": "#%%\n"
    },
    "scrolled": true
   },
   "outputs": [],
   "source": [
    "# Step 1: Load in + clean the data\n",
    "\n",
    "# load in data for the entire population\n",
    "data = (pd.read_csv(\"oasis_cross-sectional.csv\")\n",
    "        .dropna(axis=0, subset=[\"CDR\", \"nWBV\"])) # drop the participants without a clinical dementia rating\n",
    "\n",
    "# isolate participants with nonzero clinical dementia rating\n",
    "dementia_data = data.loc[data.CDR > 0, :]\n",
    "\n",
    "# isolate general population (healthy participants)\n",
    "healthy_data = data.loc[data.CDR == 0.0, :]\n",
    "\n",
    "#print some of the data\n",
    "print(\"Sample of dementia data:\")\n",
    "print(dementia_data.head(10), \"\\n\")\n",
    "\n",
    "print(\"Sample of healthy data:\")\n",
    "print(healthy_data.head(10), \"\\n\")\n"
   ]
  },
  {
   "cell_type": "markdown",
   "metadata": {},
   "source": [
    "We are only seeing the first 10 rows in each data set (that is what the .head(10) function does). Just looking at the data, which group seems to have the higher brain volume (nWBV)?\n",
    "\n"
   ]
  },
  {
   "cell_type": "markdown",
   "metadata": {},
   "source": [
    "### Step 2: Basic descriptive statistics\n",
    "\n",
    "Calculate the **mean** of the normalized whole-brain volume (nWBV) for healthy subjects. Apply the <code>mean</code> method to the column \"nWBV\" in the healthy_data and print the value. Note that the <code>.3f</code> in the print line tells Python to include only three places after the decimal point. Note that this mean() method is a function that is specific to this data type)"
   ]
  },
  {
   "cell_type": "code",
   "execution_count": null,
   "metadata": {},
   "outputs": [],
   "source": [
    "#Mean healthy patients (fill in the column name)\n",
    "\n",
    "mean_healthy = healthy_data[...].mean()\n",
    "print(\"Mean nWBV for the healthy population is %.3f\" % (mean_healthy))"
   ]
  },
  {
   "cell_type": "markdown",
   "metadata": {},
   "source": [
    "Calculate the **mean** normalized whole-brain volume for dementia patients following the same pattern as above."
   ]
  },
  {
   "cell_type": "code",
   "execution_count": null,
   "metadata": {
    "scrolled": true
   },
   "outputs": [],
   "source": [
    "#Mean dementia patients\n",
    "\n",
    "mean_dementia = \n",
    "print..."
   ]
  },
  {
   "cell_type": "markdown",
   "metadata": {},
   "source": [
    "Now calculate and print the **median** of the nWBV for the healthy and dementia patients. Hint: Method syntax for median operation is **.median()** so copy what you did above, but replace \"mean\" with \"median\"."
   ]
  },
  {
   "cell_type": "code",
   "execution_count": null,
   "metadata": {
    "scrolled": true
   },
   "outputs": [],
   "source": [
    "# Median"
   ]
  },
  {
   "cell_type": "markdown",
   "metadata": {},
   "source": [
    "Calculate and print the **standard deviation (std)** of the nWBV for the healthy and dementia patients. Method syntax is **.std()**"
   ]
  },
  {
   "cell_type": "code",
   "execution_count": null,
   "metadata": {},
   "outputs": [],
   "source": [
    "#Standard deviation"
   ]
  },
  {
   "cell_type": "markdown",
   "metadata": {},
   "source": [
    "Determine and print the **minimum value (min)** of the nWBV for the healthy and dementia patients. Method syntax is **.min()** "
   ]
  },
  {
   "cell_type": "code",
   "execution_count": null,
   "metadata": {},
   "outputs": [],
   "source": [
    "# Minimum value"
   ]
  },
  {
   "cell_type": "markdown",
   "metadata": {},
   "source": [
    "Determine and print the **maximum value (max)** of the nWBV for the healthy and dementia patients. Method syntax is **.max()**"
   ]
  },
  {
   "cell_type": "code",
   "execution_count": null,
   "metadata": {},
   "outputs": [],
   "source": [
    "# Maximum value"
   ]
  },
  {
   "cell_type": "markdown",
   "metadata": {},
   "source": [
    "Calculate and print the **range** of the nWBV values for healthy and dementia patients. Hint: Subtract your minimum value, which you determined before, from the maximum value. Hint: the “-“ operator is used to subtract the two numbers in python."
   ]
  },
  {
   "cell_type": "code",
   "execution_count": null,
   "metadata": {
    "scrolled": true
   },
   "outputs": [],
   "source": [
    "# Range of values"
   ]
  },
  {
   "cell_type": "markdown",
   "metadata": {},
   "source": [
    "What is the **sample size** for the healthy and dementia patients? You can use the length function <code>len()</code> like we did in the introductory notebooks, or you can use the count method <code>.count()</code> like we have been doing with the mean and median calculations. "
   ]
  },
  {
   "cell_type": "code",
   "execution_count": null,
   "metadata": {},
   "outputs": [],
   "source": [
    "# Sample size"
   ]
  },
  {
   "cell_type": "code",
   "execution_count": null,
   "metadata": {
    "pycharm": {
     "name": "#%%\n"
    }
   },
   "outputs": [],
   "source": [
    "# Plot the data as a histogram (just run this cell)\n",
    "fig, ax = plt.subplots(1, figsize=(10,8))\n",
    "ax.hist(healthy_data[\"nWBV\"].values, rwidth=0.5, alpha=0.75, bins=10, label='healthy_data')\n",
    "ax.hist(dementia_data[\"nWBV\"].values, rwidth=0.5, alpha=0.75, bins=10, label='dementia_data')\n",
    "\n",
    "ax.set_title(\"Distribution of nWBV for Dementia vs Healthy Population\")\n",
    "ax.set_xlabel(\"nWBV (A.U.)\")\n",
    "ax.set_ylabel(\"Count\")\n",
    "ax.legend()"
   ]
  },
  {
   "cell_type": "markdown",
   "metadata": {},
   "source": [
    "### Step 3: Bootstrapping\n",
    "\n",
    "The goal of this section is to write a bootstrap analysis to see how likely it would be to see the observed mean nWBV of the dementia data set be the same or lower than the value in this data set if you instead choose the sampled values from the full dataset at random (without replacement). Parts of the analysis code are already written, fill in the required section to complete the analysis. You will interpret the results in the lab worksheet."
   ]
  },
  {
   "cell_type": "code",
   "execution_count": null,
   "metadata": {},
   "outputs": [],
   "source": [
    "# In this cell, we will use a **for loop** to get the resamples and find the mean of each one. \n",
    "# We will resample 3000 times. \n",
    "# Make sure to keep lines written after the **for loop** indented to ensure they are run 3000 times\n",
    "\n",
    "n_iter = 3000 # number of interations (times) you will resample at random\n",
    "n_samples = dementia_data.nWBV.count() # number of data points to sample each time (sample size of dementia data set) )\n",
    "full_dataset_nWBV =  pd.concat([healthy_data.nWBV, dementia_data.nWBV]) # list of nWBV values from the full data set, both healthy and dementia populations\n",
    "\n",
    "bootstrap_means = np.zeros([n_iter,]) # initialize an array that will hold the bootstrap means as a array of all zeros\n",
    "\n",
    "for i in range(n_iter):\n",
    "    \n",
    "    # pick out a list n_samples from the full data set for this time thru the loop (with replacement)\n",
    "    # hint: the syntax for choosing random samples from a data series is:\n",
    "    # np.random.choice( a = **data series to choice from **, size = **number of samples to choose**, replace=True )\n",
    "    current_sample_list = ...\n",
    "\n",
    "    \n",
    "    # save the mean of that current sample list into the current [i] slot within bootstrap_means \n",
    "    # Hint: use the .mean() method\n",
    "    bootstrap_means[i]= ...\n",
    "      "
   ]
  },
  {
   "cell_type": "code",
   "execution_count": null,
   "metadata": {
    "pycharm": {
     "name": "#%%\n"
    },
    "scrolled": false
   },
   "outputs": [],
   "source": [
    "# mean nWBV of the entire population\n",
    "print(\"Mean nWBV for the entire population: %.3f\" % (data[\"nWBV\"].mean()))\n",
    "\n",
    "# plot the distribution of bootstrapped means in a histogram\n",
    "fig, ax = plt.subplots(1, figsize=(10,8))\n",
    "ax.hist(bootstrap_means, rwidth=0.75, alpha=0.5, bins=20,\n",
    "        label=\"Distribution of Bootstrapped Means\")\n",
    "ax.set_xlabel(\"nWBV (A.U.)\")\n",
    "ax.set_xlim([0.71, 0.78])\n",
    "ax.set_ylabel(\"Count\")\n",
    "ax.set_ylim([0, 500])\n",
    "\n",
    "# plot a vertical line showing the mean nWBV of the dementia population\n",
    "ax.plot(np.array([1, 1])*dementia_data[\"nWBV\"].mean(), [0, 500], lw=2, label = \"Mean nWBV of dementia popluation\")\n",
    "ax.set_title(\"Bootstrap Test for \")\n",
    "ax.legend()\n",
    "\n"
   ]
  },
  {
   "cell_type": "markdown",
   "metadata": {},
   "source": [
    "### Step 4: P-value\n",
    "Calculate the p-value of the bootstrap test. The p-value is calculated as the proportion of bootstrapped nWBV means that fall below (**<=**) the mean nWBV of the population of dementia patients plus 1/(sample size).\n",
    "\n",
    "Note: This addition of 1/(sample size) to the p-value is an ajustment that statisticians recommend to account for uncertainty in bootstrapping procedures that is affected by the size of the sample size. \n",
    "\n",
    "Note: \"Boolean\" refers to a list of values that are \"True\" or \"False\""
   ]
  },
  {
   "cell_type": "code",
   "execution_count": null,
   "metadata": {},
   "outputs": [],
   "source": [
    "# Hint: The operation for less than or equal to is (<=) in python, this will return a list of \"True\" or \"False\" values (Boolean).\n",
    "# You already calculated mean_dementia above\n",
    "\n",
    "boolean_list_for_below_dementia_mean = ...\n",
    "\n",
    "# Turns list of True/False into the number of \"True\"\n",
    "number_of_bootstrap_means_below_dementia = boolean_list_for_below_dementia_mean.sum()\n",
    "\n",
    "# Calculate the proportion of boostrap means that were below the dementia mean (Hint: the division operation is \"/\" in python)\n",
    "proportion_of_bootstrap_means_below_dementia = ...\n",
    "\n",
    "# This equation actually calculates the p-value (uses the proportion that you calculated before but adjusts for sample size)\n",
    "p_value = proportion_of_bootstrap_means_below_dementia + 1/n_samples\n",
    "\n",
    "print(\"p-value of the bootstrap test: %0.3f \" % (p_value)) "
   ]
  },
  {
   "cell_type": "markdown",
   "metadata": {},
   "source": [
    "Answer the questions in the Lab 1 assignment to report and interpret the information in this notebook."
   ]
  }
 ],
 "metadata": {
  "kernelspec": {
   "display_name": "Python 3 (ipykernel)",
   "language": "python",
   "name": "python3"
  },
  "language_info": {
   "codemirror_mode": {
    "name": "ipython",
    "version": 3
   },
   "file_extension": ".py",
   "mimetype": "text/x-python",
   "name": "python",
   "nbconvert_exporter": "python",
   "pygments_lexer": "ipython3",
   "version": "3.9.13"
  },
  "latex_envs": {
   "LaTeX_envs_menu_present": true,
   "autoclose": false,
   "autocomplete": true,
   "bibliofile": "biblio.bib",
   "cite_by": "apalike",
   "current_citInitial": 1,
   "eqLabelWithNumbers": true,
   "eqNumInitial": 1,
   "hotkeys": {
    "equation": "Ctrl-E",
    "itemize": "Ctrl-I"
   },
   "labels_anchors": false,
   "latex_user_defs": false,
   "report_style_numbering": false,
   "user_envs_cfg": false
  },
  "varInspector": {
   "cols": {
    "lenName": 16,
    "lenType": 16,
    "lenVar": 40
   },
   "kernels_config": {
    "python": {
     "delete_cmd_postfix": "",
     "delete_cmd_prefix": "del ",
     "library": "var_list.py",
     "varRefreshCmd": "print(var_dic_list())"
    },
    "r": {
     "delete_cmd_postfix": ") ",
     "delete_cmd_prefix": "rm(",
     "library": "var_list.r",
     "varRefreshCmd": "cat(var_dic_list()) "
    }
   },
   "types_to_exclude": [
    "module",
    "function",
    "builtin_function_or_method",
    "instance",
    "_Feature"
   ],
   "window_display": false
  }
 },
 "nbformat": 4,
 "nbformat_minor": 1
}
