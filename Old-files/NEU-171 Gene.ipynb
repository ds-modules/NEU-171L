{
 "cells": [
  {
   "cell_type": "markdown",
   "metadata": {},
   "source": [
    "<h1 align=\"center\">[MCB-163L] Introduction to Allen Mouse Brain Atlas Tools</h1>\n",
    "<h3 align=\"center\">Estimated Duration: 30 mins</h3>"
   ]
  },
  {
   "cell_type": "markdown",
   "metadata": {},
   "source": [
    "---\n",
    "### Getting Help With Jupyter Notebooks\n",
    "If you run into an error or have a question about this Jupyter notebook, you can receive in-person help from the **Data Peer Consultants**. Located in Moffitt Library (3rd Floor) almost every weekday during the semester, the Data Peer Consultants are available to help with programming, Jupyter, and/or data science questions. See their full drop-in schedule and specialities at [their website](https://data.berkeley.edu/discovery/consulting); if you can't make their drop-in times, you can also schedule an appointment by emailing [ds-peer-consulting@berkeley.edu](mailto:ds-peer-consulting@berkeley.edu)\n",
    "\n",
    "To try to solve some errors yourself, you can also consult the [Student Debugging Guide](https://docs.google.com/document/d/1kxismvvgjf10tiAqYtAKHTocJTyyM0q3Ey0Lk2UQR0Q/edit?usp=sharing).\n",
    "\n",
    "---"
   ]
  },
  {
   "cell_type": "markdown",
   "metadata": {},
   "source": [
    "## Introduction"
   ]
  },
  {
   "cell_type": "markdown",
   "metadata": {},
   "source": [
    "<div style=\"border-left: 3px solid #000; padding: 1px; padding-left: 10px; background: #f0f0ff; \">\n",
    "    In the first part of the lab, we used the Mouse Connectivity Atlas to analyze projection data within regions of the brain. In this part of the lab, we will instead use the Mouse Brain Atlas to explore the gene expression density within specific regions and entire structure of the brain\n",
    "\n",
    "</center></p>. </div>"
   ]
  },
  {
   "cell_type": "markdown",
   "metadata": {},
   "source": [
    "## Pre-lab: Importing Data"
   ]
  },
  {
   "cell_type": "markdown",
   "metadata": {},
   "source": [
    "<div style=\"border-left: 3px solid #000; padding: 1px; padding-left: 10px; background: #f0f0ff; \">\n",
    "    \n",
    "Similar to the first part of the lab, we will be importing APIs for future use. The cell below downloads collections of graphing, data analysis, and mathematical data that we'll be using to analyze gene expression. However, unlike the previous lab, we will take you through an example of gene data analysis with the subiculum and allow you to repeat this lab with a brain region and gene of your choice. \n",
    "\n",
    "</div>"
   ]
  },
  {
   "cell_type": "code",
   "execution_count": null,
   "metadata": {},
   "outputs": [],
   "source": [
    "# Run this cell\n",
    "!pip install -r requirements\n",
    "\n",
    "import pandas as pd\n",
    "import numpy as np\n",
    "import matplotlib.pyplot as plt\n",
    "\n",
    "%matplotlib inline \n",
    "import seaborn as sns\n"
   ]
  },
  {
   "cell_type": "markdown",
   "metadata": {},
   "source": [
    "<div style=\"border-left: 3px solid #000; padding: 1px; padding-left: 10px; background: #f0f0ff; \">\n",
    "Note: This lab will be split into two rounds, the first of which will simply be taking you through analysis with the subiculum. Following this, you will see instructions being split into **1st round** and **2nd round**. \n",
    "    \n",
    "    1st round: We will be reading data that we imported into this lab folder through the read_csv() method that takes in a .csv file and converts its contents into a table.\n",
    "    \n",
    "    2nd round: Replace the file name within the quotations in read_csv() with the file you downloaded.\n",
    "</div>"
   ]
  },
  {
   "cell_type": "markdown",
   "metadata": {},
   "source": [
    "<div style=\"border-left: 3px solid #000; padding: 1px; padding-left: 10px; background: #f0f0ff; \">\n",
    "    Run the next cell block to check if the data was successfully retrieved. You should see a table with a list of 20 experiments for the subiculum. From now on, we'll be using the variable maa to retrieve all data.\n",
    "\n",
    "</div>"
   ]
  },
  {
   "cell_type": "code",
   "execution_count": null,
   "metadata": {},
   "outputs": [],
   "source": [
    "# Creates variables to access the API with.\n",
    "maa = pd.read_csv(\"./data/convertcsv.csv\")\n",
    "maa"
   ]
  },
  {
   "cell_type": "markdown",
   "metadata": {},
   "source": [
    "## Part 1: Gene Expression Within Brain Regions"
   ]
  },
  {
   "cell_type": "markdown",
   "metadata": {},
   "source": [
    "<div style=\"border-left: 3px solid #000; padding: 1px; padding-left: 10px; background: #f0f0ff; \">\n",
    "\n",
    "In this section, we will begin to explore the relationship between the expression tendencies of specific genes within brain regions.\n",
    "\n",
    "</div>"
   ]
  },
  {
   "cell_type": "markdown",
   "metadata": {},
   "source": [
    "## Part 1.1: Selecting a gene"
   ]
  },
  {
   "cell_type": "markdown",
   "metadata": {},
   "source": [
    "<div style=\"border-left: 3px solid #000; padding: 1px; padding-left: 10px; background: #f0f0ff; \">\n",
    "\n",
    "1st round: We'll be analyzing G protein-coupled receptor 161 (Gpr 161) and its relevance in the subiculum. Since we no longer need other experiments for now, we'll be taking only experiments that have the gene id Gpr 161 by searching through all experiments and checking the gene symbol for each one.\n",
    "\n",
    "2nd round: Replace Gpr161 to the gene of your choice. You may also change the variable name gpr161, if you choose. Then run the cell block. One way to vertify that the code retrieval was successful is by counting how many rows in the above table have the gene-symbol of your choice. You should see the same number of rows below.\n",
    "\n",
    "</div>"
   ]
  },
  {
   "cell_type": "code",
   "execution_count": null,
   "metadata": {},
   "outputs": [],
   "source": [
    "#selecting rows that match the gene symbol Gpr161\n",
    "gpr161 = maa[maa[\"gene-symbol\"] == \"Gpr161\"]\n",
    "gpr161"
   ]
  },
  {
   "cell_type": "markdown",
   "metadata": {},
   "source": [
    "## Part 1.2 : Calculating gene expression"
   ]
  },
  {
   "cell_type": "markdown",
   "metadata": {},
   "source": [
    "<div style=\"border-left: 3px solid #000; padding: 1px; padding-left: 10px; background: #f0f0ff; \">\n",
    "1st round: To gather some perspective on gene expression, we'll be finding a measure for how much more a gene is expressed in the subiculum than in other brain regions. This measure is called fold-change and is shown in the table above. To extract the fold-change for gpr161, we'll be creating a method called expression. This function takes in one parameter: \n",
    "       \n",
    "       gene: the gene-symbol of the gene currently being analyzed \n",
    "\n",
    "**Expression** will display a numerical value that denotes how much more the gene is expressed in the subiculum relative to other brain regions by taking the average of all fold change values for a gene.\n",
    "\n",
    "2nd round: If you changed the variable name gpr161 earlier, replace the name here. Otherwise, run the cell block to get the percentage of your chosen gene in your brain region.\n",
    "\n",
    "</div>"
   ]
  },
  {
   "cell_type": "code",
   "execution_count": null,
   "metadata": {},
   "outputs": [],
   "source": [
    "def expression(gene):\n",
    "    occurrences = gene[\"fold-change\"].mean()\n",
    "    return occurrences\n",
    "expression(gpr161)"
   ]
  },
  {
   "cell_type": "markdown",
   "metadata": {},
   "source": [
    "## Part 1.3: Graphing gene expression"
   ]
  },
  {
   "cell_type": "markdown",
   "metadata": {},
   "source": [
    "<div style=\"border-left: 3px solid #000; padding: 1px; padding-left: 10px; background: #f0f0ff; \">\n",
    "    \n",
    "1st found: To ensure you are on the right track, below is a bar graph indicating the top few genes that are most expressed in the subiculum. Simply run the cell block.\n",
    "\n",
    "2nd round: Fill in your specified brain region within quotations below. Then, run the code below to construct a bar graph showing data relevant to your brain region.\n",
    "\n",
    "</div>"
   ]
  },
  {
   "cell_type": "code",
   "execution_count": null,
   "metadata": {},
   "outputs": [],
   "source": [
    "def bar_graph():\n",
    "    listOfGenes = [] #gathering all unique gene symbols \n",
    "    for g in maa[\"gene-symbol\"]:\n",
    "        if g not in listOfGenes: \n",
    "            listOfGenes += [g] \n",
    "            \n",
    "    expressions = [] #measure of gene expression of each unique gene symbol relative to all gene expression \n",
    "    for gene in listOfGenes: \n",
    "        geneData = maa[maa[\"gene-symbol\"] == gene]\n",
    "        expressions += [expression(geneData)]\n",
    "        \n",
    "    plt.bar(listOfGenes, expressions) #plotting\n",
    "    plt.xlabel('Gene Symbol', fontsize = 12)\n",
    "    plt.ylabel('Measure of gene expression', fontsize = 12)\n",
    "    plt.tight_layout()\n",
    "    plt.xticks(rotation=90)\n",
    "    \n",
    "bar_graph()"
   ]
  },
  {
   "cell_type": "markdown",
   "metadata": {},
   "source": [
    "## Part 2: Free Exploration"
   ]
  },
  {
   "cell_type": "markdown",
   "metadata": {},
   "source": [
    "<div style=\"border-left: 3px solid #000; padding: 1px; padding-left: 10px; background: #f0f0ff; \">\n",
    "As described earlier, you'll now get the chance to run through this lab with a brain region and gene of your choosing. In order to start, we have to find and import the specified data. Below are instructions to get you started.\n",
    "    \n",
    "          1. Go to the Mouse Brain Atlas website from the Allen Brain Atlas website.\n",
    "          2. On the left bar about midway down the page, click on differential search. \n",
    "          3. Enter your brain region into target structures, and click search. \n",
    "          4. Click on XML at the bottom of the page. It should say \"this data is available in XML.\" Save that file in the same folder as your lab. You should be able to open the home page and see both the file and the lab. \n",
    "          5. Go to http://convertcsv.com/xml-to-csv.htm to convert your XML file to CSV file. You are free to choose whatever file name you want, so long as it differs from the one used already in our example (convertcsv.csv). Make sure to save this file in the same folder as your lab. \n",
    "          6. You're good to go! Run through this lab again, this time reading instructions for 2nd round. \n",
    "          7. After you're done with the 2nd round, please print out the bar graph and paste it in your notebook. You can save this lab immediately to Google Drive or save this as a pdf and print the last page of the notebook. \n",
    "          \n",
    "              \n",
    "</div> "
   ]
  },
  {
   "cell_type": "markdown",
   "metadata": {},
   "source": [
    "## References "
   ]
  },
  {
   "cell_type": "markdown",
   "metadata": {},
   "source": [
    "* Pandas.read_csv - Pandas 0.24.2 Documentation, pandas.pydata.org/pandas-docs/stable/reference/api/pandas.read_csv.html.\n",
    "    \n",
    "* Allensdk.api.queries.mouse_atlas_api Module - Allen SDK Dev Documentation, allensdk.readthedocs.io/en/latest/allensdk.api.queries.mouse_atlas_api.html.\n",
    "    \n",
    "* “Pandas Tutorial 1: Pandas Basics (read_csv, DataFrame, Data Selection, Etc.).” Data36, 16 Jan. 2019, data36.com/pandas-tutorial-1-basics-reading-data-files-dataframes-data-selection/."
   ]
  },
  {
   "cell_type": "markdown",
   "metadata": {},
   "source": [
    "**Notebook developed by: Kayli Jiang**"
   ]
  }
 ],
 "metadata": {
  "kernelspec": {
   "display_name": "Python 3",
   "language": "python",
   "name": "python3"
  },
  "language_info": {
   "codemirror_mode": {
    "name": "ipython",
    "version": 3
   },
   "file_extension": ".py",
   "mimetype": "text/x-python",
   "name": "python",
   "nbconvert_exporter": "python",
   "pygments_lexer": "ipython3",
   "version": "3.6.8"
  }
 },
 "nbformat": 4,
 "nbformat_minor": 2
}
