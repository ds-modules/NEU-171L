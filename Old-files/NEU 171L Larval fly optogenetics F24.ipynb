{
 "cells": [
  {
   "cell_type": "markdown",
   "metadata": {},
   "source": [
    "# NEU 171L: Larval fly optogenetics and behavior\n",
    "\n",
    "Use this almost blank Jupyter notebook to analyze your data for the larval behaviors. You should do a Mann-Whitney U test for your behavior data for the OK6-Gal4 and ppk-Gal4 crosses. Refer to the Jupyter notebook from the adult fly lab to see how to enter your data and analyze it. We encourage you to try to make bar graphs as well, but you can use Excel for the graphs if you prefer. Remember that you can always add in extra code cells if you want to do more things than what this notebook outlines.\n",
    "\n",
    "#### Learning Objectives\n",
    "- Use an equivalent to a t-test (Mann-Whitney U test) to compare the optogenetic flies to the negative controls\n",
    "- Interpret what the p-value means with respect to the tested hypothesis \n",
    "\n",
    "## Step 0: Load the package to be used later in the analysis\n",
    "(Don't edit this cell, just run it using 𝚌𝚝𝚛𝚕+𝚎𝚗𝚝𝚎𝚛 and then move to the next cell)"
   ]
  },
  {
   "cell_type": "code",
   "execution_count": 13,
   "metadata": {
    "pycharm": {
     "name": "#%%\n"
    }
   },
   "outputs": [],
   "source": [
    "#Load the statistics package. Run this cell first! Every time you come back to this notebook, you need to run this cell again.\n",
    "\n",
    "from scipy import stats as st"
   ]
  },
  {
   "cell_type": "markdown",
   "metadata": {
    "pycharm": {
     "name": "#%% md\n"
    }
   },
   "source": [
    "## Step 1: Enter your data for the OK6-Gal4 x UAS-ChIEF flies\n",
    "\n",
    "You should have two lists - one for the ATR flies and one for the controls. You decide what to call the lists. Look at the previous lab's Jupyter notebook if you need a hint about formatting."
   ]
  },
  {
   "cell_type": "code",
   "execution_count": 12,
   "metadata": {},
   "outputs": [],
   "source": [
    "# Make two lists here with your OK6 data\n",
    "\n"
   ]
  },
  {
   "cell_type": "markdown",
   "metadata": {
    "pycharm": {
     "name": "#%%\n"
    }
   },
   "source": [
    "## Step 2: Run a Mann-Whitney U two-sided rank test on your OK6 experiments\n",
    "\n",
    "The Mann-Whitney U test tests the null hypothesis that the distribution underlying sample x is the same as the distribution underlying sample y. Therefore lower p-values indicate that the two samples are likely not from the same distribution. \n",
    "\n",
    "Copy the code from the adult optogenetics Jupyter notebook and replace the variable names"
   ]
  },
  {
   "cell_type": "code",
   "execution_count": null,
   "metadata": {},
   "outputs": [],
   "source": [
    "# Perform the Mann-Whitney U test on the OK6 experiments\n",
    "\n"
   ]
  },
  {
   "cell_type": "markdown",
   "metadata": {},
   "source": [
    "We will use the standard p-value cut-off of 0.05. What can you conclude from your p-value? Explain in the lab assignment."
   ]
  },
  {
   "cell_type": "markdown",
   "metadata": {},
   "source": [
    "## Step 3: Enter your data for the ppk-Gal4 x UAS-ChIEF flies\n",
    "\n",
    "You should have two lists one for the ATR flies and one for the controls. You decide what to call the lists. "
   ]
  },
  {
   "cell_type": "code",
   "execution_count": null,
   "metadata": {},
   "outputs": [],
   "source": [
    "# Make two lists here with your ppk data\n"
   ]
  },
  {
   "cell_type": "markdown",
   "metadata": {},
   "source": [
    "## Step 4: Run a Mann-Whitney U two-sided rank test on your ppk experiments"
   ]
  },
  {
   "cell_type": "code",
   "execution_count": null,
   "metadata": {},
   "outputs": [],
   "source": [
    "# Perform the Mann-Whitney U test on the ppk experiments and report your results in the lab assignment\n"
   ]
  },
  {
   "cell_type": "markdown",
   "metadata": {},
   "source": [
    "## Step 5 (optional): Calculate the mean and standard deviation and make bar plots\n",
    "\n",
    "If you want to make a bar plot, then make sure you run the next cell to load the rest of the packages for doing calculations and making graphs."
   ]
  },
  {
   "cell_type": "code",
   "execution_count": null,
   "metadata": {},
   "outputs": [],
   "source": [
    "# Run this cell if you plan on making bar plots\n",
    "\n",
    "import numpy as np\n",
    "import matplotlib.pyplot as plt\n",
    "%matplotlib inline\n",
    "from datascience import *"
   ]
  },
  {
   "cell_type": "code",
   "execution_count": null,
   "metadata": {},
   "outputs": [],
   "source": [
    "# Follow the code from the previous Jupyter notebook to do your calculations and graphs\n"
   ]
  },
  {
   "cell_type": "code",
   "execution_count": null,
   "metadata": {},
   "outputs": [],
   "source": []
  }
 ],
 "metadata": {
  "kernelspec": {
   "display_name": "Python 3 (ipykernel)",
   "language": "python",
   "name": "python3"
  },
  "language_info": {
   "codemirror_mode": {
    "name": "ipython",
    "version": 3
   },
   "file_extension": ".py",
   "mimetype": "text/x-python",
   "name": "python",
   "nbconvert_exporter": "python",
   "pygments_lexer": "ipython3",
   "version": "3.11.9"
  }
 },
 "nbformat": 4,
 "nbformat_minor": 4
}
